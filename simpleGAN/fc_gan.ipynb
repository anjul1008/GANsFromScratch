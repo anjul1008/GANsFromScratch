{
 "cells": [
  {
   "cell_type": "markdown",
   "metadata": {},
   "source": [
    "# Genrative Adversals Network"
   ]
  },
  {
   "cell_type": "code",
   "execution_count": null,
   "metadata": {},
   "outputs": [],
   "source": [
    "import torch\n",
    "import torch.nn as nn\n",
    "import torch.optim as optim\n",
    "from torch.utils.data import DataLoader\n",
    "from torch.utils.tensorboard import SummaryWriter\n",
    "\n",
    "import torchvision\n",
    "import torchvision.datasets as datasets\n",
    "import torchvision.transforms as transforms"
   ]
  },
  {
   "cell_type": "code",
   "execution_count": null,
   "metadata": {},
   "outputs": [],
   "source": [
    "class Descrimator(nn.Module):\n",
    "    def __init__(self, in_features):\n",
    "        super().__init__()\n",
    "        self.desc = nn.Sequential(\n",
    "            nn.Linear(in_features, 128),\n",
    "            nn.LeakyReLU(0.2),\n",
    "            nn.Linear(128, 1),\n",
    "            nn.Sigmoid()\n",
    "        )\n",
    "    \n",
    "    def forward(self, x):\n",
    "        return self.desc(x)\n",
    "    "
   ]
  },
  {
   "cell_type": "code",
   "execution_count": null,
   "metadata": {},
   "outputs": [],
   "source": [
    "class Generator(nn.Module):\n",
    "    def __init__(self, z_dim, img_dim):\n",
    "        super().__init__()\n",
    "        self.gen = nn.Sequential(\n",
    "            nn.Linear(z_dim, 256),\n",
    "            nn.LeakyReLU(0.2),\n",
    "            nn.Linear(256, img_dim),\n",
    "            nn.Tanh()\n",
    "        )\n",
    "        \n",
    "    def forward(self, x):\n",
    "        return self.gen(x)"
   ]
  },
  {
   "cell_type": "code",
   "execution_count": null,
   "metadata": {},
   "outputs": [],
   "source": [
    "# Hyperparameter\n",
    "device = torch.device(\"cuda\" if torch.cuda.is_available() else \"cpu\")\n",
    "lr = 3e-4\n",
    "z_dim = 64      # 128, 256\n",
    "img_dim = 28 * 28 * 1    # 768\n",
    "num_epochs = 50\n",
    "batch_size = 16"
   ]
  },
  {
   "cell_type": "code",
   "execution_count": null,
   "metadata": {},
   "outputs": [],
   "source": [
    "disc =  Descrimator(img_dim).to(device)\n",
    "gen =   Generator(z_dim, img_dim).to(device)\n",
    "fixed_noise = torch.randn((batch_size, z_dim)).to(device)"
   ]
  },
  {
   "cell_type": "code",
   "execution_count": null,
   "metadata": {},
   "outputs": [],
   "source": [
    "transform = transforms.Compose(\n",
    "    [\n",
    "        transforms.ToTensor(),\n",
    "        transforms.Normalize((0.5,), (0.5,)),\n",
    "        # transforms.Normalize((0.1307,), (0.3081,))\n",
    "    ]\n",
    ")\n",
    "\n",
    "dataset = datasets.MNIST(root='dataset/', transform=transform, download=True)\n",
    "loader = DataLoader(dataset, batch_size=batch_size, shuffle=True)\n",
    "\n",
    "opt_D = optim.Adam(disc.parameters(),   lr=lr)\n",
    "opt_G = optim.Adam(gen.parameters(),    lr=lr)\n",
    "critertion = nn.BCELoss()"
   ]
  },
  {
   "cell_type": "code",
   "execution_count": null,
   "metadata": {},
   "outputs": [],
   "source": [
    "writer_fake = SummaryWriter(f\"runs/GAN_MNIST/fake\")\n",
    "writer_real = SummaryWriter(f\"runs/GAN_MNIST/real\")"
   ]
  },
  {
   "cell_type": "code",
   "execution_count": null,
   "metadata": {},
   "outputs": [],
   "source": [
    "step = 0\n",
    "\n",
    "for epoch in range(num_epochs):\n",
    "    for batch_idx, (real, _) in enumerate(loader):\n",
    "        real = real.view(-1, img_dim).to(device)\n",
    "        batch_size = real.shape[0]\n",
    "        \n",
    "        # Train Discriminator   # max log(D(real)) + log(1-D(G(z)))\n",
    "        noise = torch.randn(batch_size, z_dim).to(device)\n",
    "        fake = gen(noise)\n",
    "        \n",
    "        disc_real = disc(real).view(-1)\n",
    "        disc_real_loss = critertion(disc_real, torch.ones_like(disc_real))      # log(D(real))\n",
    "        disc_fake = disc(fake).view(-1)\n",
    "        disc_fake_loss = critertion(disc_fake, torch.zeros_like(disc_fake))     # log(1-D(G(z)))\n",
    "        disc_loss = (disc_real_loss + disc_fake_loss) / 2\n",
    "        \n",
    "        disc.zero_grad()\n",
    "        disc_loss.backward(retain_graph=True)\n",
    "        opt_D.step()\n",
    "        \n",
    "        # Train Generator   # min log(1 - D(G(z))) -> max log(D(G(z)))\n",
    "        output = disc(fake).view(-1)\n",
    "        gen_loss = critertion(output,   torch.ones_like(output))\n",
    "        \n",
    "        gen.zero_grad()\n",
    "        gen_loss.backward()\n",
    "        opt_G.step()\n",
    "        \n",
    "        if batch_size == 0:\n",
    "            print(\n",
    "                f\"Epoch [{epoch}/{num_epochs}] Batch [{batch_idx}/{len(loader)}] \\n\"\n",
    "                f\"Discriminator Loss: {disc_loss.item():.4f} Generator Loss: {gen_loss.item():.4f}\"\n",
    "            )\n",
    "        \n",
    "        # tensorboard summary statistics\n",
    "        with torch.no_grad():\n",
    "            fake = gen(fixed_noise).reshape(-1, 1, 28, 28)\n",
    "            data = real.reshape(-1, 1, 28, 28)\n",
    "            \n",
    "            img_grid_fake = torchvision.utils.make_grid(fake, normalize=True)\n",
    "            img_grid_real = torchvision.utils.make_grid(real, normalize=True)\n",
    "            \n",
    "            writer_fake.add_image(\"Fake Images\", img_grid_fake, global_step=step)\n",
    "            writer_real.add_image(\"Real Images\", img_grid_real, global_step=step)\n",
    "            \n",
    "            step += 1"
   ]
  }
 ],
 "metadata": {
  "kernelspec": {
   "display_name": "base",
   "language": "python",
   "name": "python3"
  },
  "language_info": {
   "codemirror_mode": {
    "name": "ipython",
    "version": 3
   },
   "file_extension": ".py",
   "mimetype": "text/x-python",
   "name": "python",
   "nbconvert_exporter": "python",
   "pygments_lexer": "ipython3",
   "version": "3.11.5"
  }
 },
 "nbformat": 4,
 "nbformat_minor": 2
}
